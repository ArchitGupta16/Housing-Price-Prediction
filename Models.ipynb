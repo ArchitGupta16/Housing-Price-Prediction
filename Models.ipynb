{
  "nbformat": 4,
  "nbformat_minor": 0,
  "metadata": {
    "colab": {
      "provenance": [],
      "authorship_tag": "ABX9TyNsf6PY0vc84Qga8/mhuUtk",
      "include_colab_link": true
    },
    "kernelspec": {
      "name": "python3",
      "display_name": "Python 3"
    },
    "language_info": {
      "name": "python"
    }
  },
  "cells": [
    {
      "cell_type": "markdown",
      "metadata": {
        "id": "view-in-github",
        "colab_type": "text"
      },
      "source": [
        "<a href=\"https://colab.research.google.com/github/ArchitGupta16/Housing-Price-Prediction/blob/main/Models.ipynb\" target=\"_parent\"><img src=\"https://colab.research.google.com/assets/colab-badge.svg\" alt=\"Open In Colab\"/></a>"
      ]
    },
    {
      "cell_type": "markdown",
      "source": [
        "Scaling"
      ],
      "metadata": {
        "id": "E_SIRd9siy-J"
      }
    },
    {
      "cell_type": "code",
      "source": [
        "import pandas as pd\n",
        "from sklearn.preprocessing import MinMaxScaler, StandardScaler\n",
        "import numpy as np\n",
        "\n",
        "train_data = pd.read_csv('train.csv')\n",
        "test_data = pd.read_csv('test.csv')\n",
        "variables = [\"LotArea\", \"BsmtFinSF1\", \"TotalBsmtSF\", \"X1stFlrSF\", \"X2ndFlrSF\", \"GrLivArea\", \"GarageArea\"]\n",
        "\n",
        "\n",
        "standard_scaler = StandardScaler()\n",
        "\n",
        "for variable in variables:\n",
        "    train_data[variable] = (train_data[variable] - train_data[variable].mean()) / train_data[variable].std()\n",
        "    test_data[variable] = (test_data[variable] - test_data[variable].mean()) / test_data[variable].std()\n",
        "test_data.to_csv('normalized_test.csv',index=False)\n",
        "train_data.to_csv('normalized_train.csv',index=False)\n"
      ],
      "metadata": {
        "id": "gCzsGSCViyAT"
      },
      "execution_count": null,
      "outputs": []
    },
    {
      "cell_type": "code",
      "source": [
        "#@title Libraries\n",
        "import pandas as pd\n",
        "from sklearn.model_selection import train_test_split\n",
        "from sklearn.ensemble import RandomForestRegressor\n",
        "from sklearn.metrics import mean_squared_error, r2_score,mean_absolute_error,mean_squared_log_error,log_loss\n"
      ],
      "metadata": {
        "id": "yqf8CZoadOuY"
      },
      "execution_count": null,
      "outputs": []
    },
    {
      "cell_type": "code",
      "execution_count": null,
      "metadata": {
        "id": "oupX0KZtcp8L"
      },
      "outputs": [],
      "source": [
        "train_data = pd.read_csv('normalized_train.csv')\n",
        "test_data = pd.read_csv('normalized_test.csv')"
      ]
    },
    {
      "cell_type": "markdown",
      "source": [
        "Random Forest\n"
      ],
      "metadata": {
        "id": "bEZc0uN7g43E"
      }
    },
    {
      "cell_type": "code",
      "source": [
        "X_train = train_data.drop('SalePrice', axis=1)\n",
        "y_train = train_data['SalePrice']"
      ],
      "metadata": {
        "id": "ygDYRrnHelky"
      },
      "execution_count": null,
      "outputs": []
    },
    {
      "cell_type": "code",
      "source": [
        "X_train, X_val, y_train, y_val = train_test_split(X_train, y_train, test_size=0.2, random_state=42)"
      ],
      "metadata": {
        "id": "DGLRJZHt4imZ"
      },
      "execution_count": null,
      "outputs": []
    },
    {
      "cell_type": "code",
      "source": [
        "model = RandomForestRegressor(\n",
        ")\n",
        "model.fit(X_train, y_train)"
      ],
      "metadata": {
        "colab": {
          "base_uri": "https://localhost:8080/",
          "height": 75
        },
        "id": "3Hf4_Gc8eyB6",
        "outputId": "09d68496-1f3d-469c-d46e-d867f441f41d"
      },
      "execution_count": null,
      "outputs": [
        {
          "output_type": "execute_result",
          "data": {
            "text/plain": [
              "RandomForestRegressor()"
            ],
            "text/html": [
              "<style>#sk-container-id-3 {color: black;background-color: white;}#sk-container-id-3 pre{padding: 0;}#sk-container-id-3 div.sk-toggleable {background-color: white;}#sk-container-id-3 label.sk-toggleable__label {cursor: pointer;display: block;width: 100%;margin-bottom: 0;padding: 0.3em;box-sizing: border-box;text-align: center;}#sk-container-id-3 label.sk-toggleable__label-arrow:before {content: \"▸\";float: left;margin-right: 0.25em;color: #696969;}#sk-container-id-3 label.sk-toggleable__label-arrow:hover:before {color: black;}#sk-container-id-3 div.sk-estimator:hover label.sk-toggleable__label-arrow:before {color: black;}#sk-container-id-3 div.sk-toggleable__content {max-height: 0;max-width: 0;overflow: hidden;text-align: left;background-color: #f0f8ff;}#sk-container-id-3 div.sk-toggleable__content pre {margin: 0.2em;color: black;border-radius: 0.25em;background-color: #f0f8ff;}#sk-container-id-3 input.sk-toggleable__control:checked~div.sk-toggleable__content {max-height: 200px;max-width: 100%;overflow: auto;}#sk-container-id-3 input.sk-toggleable__control:checked~label.sk-toggleable__label-arrow:before {content: \"▾\";}#sk-container-id-3 div.sk-estimator input.sk-toggleable__control:checked~label.sk-toggleable__label {background-color: #d4ebff;}#sk-container-id-3 div.sk-label input.sk-toggleable__control:checked~label.sk-toggleable__label {background-color: #d4ebff;}#sk-container-id-3 input.sk-hidden--visually {border: 0;clip: rect(1px 1px 1px 1px);clip: rect(1px, 1px, 1px, 1px);height: 1px;margin: -1px;overflow: hidden;padding: 0;position: absolute;width: 1px;}#sk-container-id-3 div.sk-estimator {font-family: monospace;background-color: #f0f8ff;border: 1px dotted black;border-radius: 0.25em;box-sizing: border-box;margin-bottom: 0.5em;}#sk-container-id-3 div.sk-estimator:hover {background-color: #d4ebff;}#sk-container-id-3 div.sk-parallel-item::after {content: \"\";width: 100%;border-bottom: 1px solid gray;flex-grow: 1;}#sk-container-id-3 div.sk-label:hover label.sk-toggleable__label {background-color: #d4ebff;}#sk-container-id-3 div.sk-serial::before {content: \"\";position: absolute;border-left: 1px solid gray;box-sizing: border-box;top: 0;bottom: 0;left: 50%;z-index: 0;}#sk-container-id-3 div.sk-serial {display: flex;flex-direction: column;align-items: center;background-color: white;padding-right: 0.2em;padding-left: 0.2em;position: relative;}#sk-container-id-3 div.sk-item {position: relative;z-index: 1;}#sk-container-id-3 div.sk-parallel {display: flex;align-items: stretch;justify-content: center;background-color: white;position: relative;}#sk-container-id-3 div.sk-item::before, #sk-container-id-3 div.sk-parallel-item::before {content: \"\";position: absolute;border-left: 1px solid gray;box-sizing: border-box;top: 0;bottom: 0;left: 50%;z-index: -1;}#sk-container-id-3 div.sk-parallel-item {display: flex;flex-direction: column;z-index: 1;position: relative;background-color: white;}#sk-container-id-3 div.sk-parallel-item:first-child::after {align-self: flex-end;width: 50%;}#sk-container-id-3 div.sk-parallel-item:last-child::after {align-self: flex-start;width: 50%;}#sk-container-id-3 div.sk-parallel-item:only-child::after {width: 0;}#sk-container-id-3 div.sk-dashed-wrapped {border: 1px dashed gray;margin: 0 0.4em 0.5em 0.4em;box-sizing: border-box;padding-bottom: 0.4em;background-color: white;}#sk-container-id-3 div.sk-label label {font-family: monospace;font-weight: bold;display: inline-block;line-height: 1.2em;}#sk-container-id-3 div.sk-label-container {text-align: center;}#sk-container-id-3 div.sk-container {/* jupyter's `normalize.less` sets `[hidden] { display: none; }` but bootstrap.min.css set `[hidden] { display: none !important; }` so we also need the `!important` here to be able to override the default hidden behavior on the sphinx rendered scikit-learn.org. See: https://github.com/scikit-learn/scikit-learn/issues/21755 */display: inline-block !important;position: relative;}#sk-container-id-3 div.sk-text-repr-fallback {display: none;}</style><div id=\"sk-container-id-3\" class=\"sk-top-container\"><div class=\"sk-text-repr-fallback\"><pre>RandomForestRegressor()</pre><b>In a Jupyter environment, please rerun this cell to show the HTML representation or trust the notebook. <br />On GitHub, the HTML representation is unable to render, please try loading this page with nbviewer.org.</b></div><div class=\"sk-container\" hidden><div class=\"sk-item\"><div class=\"sk-estimator sk-toggleable\"><input class=\"sk-toggleable__control sk-hidden--visually\" id=\"sk-estimator-id-3\" type=\"checkbox\" checked><label for=\"sk-estimator-id-3\" class=\"sk-toggleable__label sk-toggleable__label-arrow\">RandomForestRegressor</label><div class=\"sk-toggleable__content\"><pre>RandomForestRegressor()</pre></div></div></div></div></div>"
            ]
          },
          "metadata": {},
          "execution_count": 37
        }
      ]
    },
    {
      "cell_type": "code",
      "source": [
        "y_val_pred = model.predict(X_val)\n",
        "\n",
        "mse = mean_squared_error(y_val, y_val_pred)\n",
        "mae = mean_absolute_error(y_val, y_val_pred)\n",
        "msle = mean_squared_log_error(y_val,y_val_pred)\n",
        "r2 = r2_score(y_val,y_val_pred)\n",
        "print(\"Mean Squared Error (MSE) on validation set:\", mse)\n",
        "print(\"Mean Absolute Error (MAE) on validation set:\", mae)\n",
        "print(\"mean log squre error\",msle,r2)"
      ],
      "metadata": {
        "colab": {
          "base_uri": "https://localhost:8080/"
        },
        "id": "6jDZR_zT47ZM",
        "outputId": "53d21b4b-3da4-4f90-9a0e-f8a2f502c82c"
      },
      "execution_count": null,
      "outputs": [
        {
          "output_type": "stream",
          "name": "stdout",
          "text": [
            "Mean Squared Error (MSE) on validation set: 764080205.5901656\n",
            "Mean Absolute Error (MAE) on validation set: 17048.133630136985\n",
            "mean log squre error 0.022630868280457083 0.9003849138939855\n"
          ]
        }
      ]
    },
    {
      "cell_type": "code",
      "source": [
        "y_test_pred = model.predict(test_data)"
      ],
      "metadata": {
        "id": "WEY51WJ7e2Hi"
      },
      "execution_count": null,
      "outputs": []
    },
    {
      "cell_type": "code",
      "source": [
        "y_test_pred"
      ],
      "metadata": {
        "colab": {
          "base_uri": "https://localhost:8080/"
        },
        "id": "Fpr-6v_s8UYH",
        "outputId": "3f05d93c-85e6-4df4-e4b8-047a4d625ecd"
      },
      "execution_count": null,
      "outputs": [
        {
          "output_type": "execute_result",
          "data": {
            "text/plain": [
              "array([126620.16, 152158.25, 181111.72, ..., 153776.44, 119376.  ,\n",
              "       234777.4 ])"
            ]
          },
          "metadata": {},
          "execution_count": 40
        }
      ]
    },
    {
      "cell_type": "code",
      "source": [
        "output_data = pd.DataFrame({'Id': test_data['Id'], 'SalePrice': y_test_pred})\n",
        "output_data.to_csv('output.csv', index=False)"
      ],
      "metadata": {
        "id": "VXXhiixJe9kz"
      },
      "execution_count": null,
      "outputs": []
    },
    {
      "cell_type": "markdown",
      "source": [
        "XGBoost\n"
      ],
      "metadata": {
        "id": "ZgD94OujhTks"
      }
    },
    {
      "cell_type": "code",
      "source": [
        "import pandas as pd\n",
        "import xgboost as xgb\n",
        "from sklearn.model_selection import train_test_split\n",
        "from sklearn.metrics import accuracy_score,mean_squared_log_error\n"
      ],
      "metadata": {
        "id": "OEn0jlgajGRE"
      },
      "execution_count": null,
      "outputs": []
    },
    {
      "cell_type": "code",
      "source": [
        "train_data = pd.read_csv('scaled_train.csv')\n",
        "test_data = pd.read_csv('scaled_test.csv')"
      ],
      "metadata": {
        "id": "eNQST2RXhWBQ"
      },
      "execution_count": null,
      "outputs": []
    },
    {
      "cell_type": "code",
      "source": [
        "X_train = train_data.drop(['SalePrice'], axis=1)\n",
        "y_train = train_data['SalePrice']"
      ],
      "metadata": {
        "id": "aMlSx8Cyi-F_"
      },
      "execution_count": null,
      "outputs": []
    },
    {
      "cell_type": "code",
      "source": [
        "xgb_model = xgb.XGBRegressor()\n",
        "xgb_model.fit(X_train, y_train)"
      ],
      "metadata": {
        "id": "cD6q1VwSjEYE"
      },
      "execution_count": null,
      "outputs": []
    },
    {
      "cell_type": "code",
      "source": [
        "predictions = xgb_model.predict(test_data)"
      ],
      "metadata": {
        "id": "-KYvpnQwjOlM"
      },
      "execution_count": null,
      "outputs": []
    },
    {
      "cell_type": "code",
      "source": [
        "output_data = pd.DataFrame({'Id': test_data['Id'], 'SalePrice': predictions})\n",
        "output_data.to_csv('output.csv', index=False)"
      ],
      "metadata": {
        "id": "7Izd4xEljXnt"
      },
      "execution_count": null,
      "outputs": []
    },
    {
      "cell_type": "code",
      "source": [
        "from sklearn.metrics import mean_squared_error,r2_score, mean_absolute_error, mean_squared_error\n",
        "\n",
        "X = X_train\n",
        "y = y_train\n",
        "X_train, X_val, y_train, y_val = train_test_split(X, y, test_size=0.2, random_state=42)\n",
        "\n",
        "xgb_model = xgb.XGBRegressor()\n",
        "\n",
        "xgb_model.fit(X_train, y_train)\n",
        "\n",
        "# Make predictions on the validation set\n",
        "predictions = xgb_model.predict(X_val)\n",
        "\n",
        "# Calculate the mean squared error (MSE) as a score\n",
        "mse = mean_squared_error(y_val, predictions)\n",
        "score = 1 - mse\n",
        "print('Model Score:', score)\n",
        "\n",
        "r2 = r2_score(y_val, predictions)\n",
        "print('R^2 Score:', r2)\n",
        "\n",
        "rmse = mean_squared_error(y_val, predictions, squared=False)\n",
        "print('Root Mean Squared Error:', rmse)\n",
        "\n",
        "msle = mean_squared_log_error(y_val,predictions)\n",
        "\n",
        "print(\"mean log squre error\",msle)"
      ],
      "metadata": {
        "colab": {
          "base_uri": "https://localhost:8080/"
        },
        "id": "QK4unX-ck0GT",
        "outputId": "394526b2-13be-47dd-b20a-041f6c6fb937"
      },
      "execution_count": null,
      "outputs": [
        {
          "output_type": "stream",
          "name": "stdout",
          "text": [
            "Model Score: -691687949.4764657\n",
            "R^2 Score: 0.9098228769164535\n",
            "Root Mean Squared Error: 26299.96103564539\n",
            "mean log squre error 0.021872524522022787\n"
          ]
        }
      ]
    },
    {
      "cell_type": "markdown",
      "source": [
        "Linear Regression\n"
      ],
      "metadata": {
        "id": "a6l6dX3GAE0V"
      }
    },
    {
      "cell_type": "code",
      "source": [
        "import pandas as pd\n",
        "from sklearn.model_selection import train_test_split\n",
        "from sklearn.linear_model import LinearRegression\n",
        "from sklearn.metrics import mean_squared_error, mean_absolute_error\n",
        "\n",
        "train_data = pd.read_csv('train.csv')\n",
        "test_data = pd.read_csv('test.csv')\n",
        "\n",
        "X_train = train_data.drop('SalePrice', axis=1)\n",
        "y_train = train_data['SalePrice']\n",
        "\n",
        "X_train, X_val, y_train, y_val = train_test_split(X_train, y_train, test_size=0.2, random_state=42)\n",
        "\n",
        "model = LinearRegression()\n",
        "model.fit(X_train, y_train)\n",
        "\n",
        "# Evaluate the model on the validation set\n",
        "y_val_pred = model.predict(X_val)\n",
        "\n",
        "mse = mean_squared_error(y_val, y_val_pred)\n",
        "mae = mean_absolute_error(y_val, y_val_pred)\n",
        "\n",
        "print(\"Mean Squared Error (MSE) on validation set:\", mse)\n",
        "print(\"Mean Absolute Error (MAE) on validation set:\", mae)\n",
        "\n",
        "# Make predictions on the test set\n",
        "y_test_pred = model.predict(test_data)\n"
      ],
      "metadata": {
        "colab": {
          "base_uri": "https://localhost:8080/"
        },
        "id": "Mip8iOVNAGx2",
        "outputId": "22b96ae1-be6e-466f-a8e1-4ead988cf8c2"
      },
      "execution_count": null,
      "outputs": [
        {
          "output_type": "stream",
          "name": "stdout",
          "text": [
            "Mean Squared Error (MSE) on validation set: 1189172616.3068068\n",
            "Mean Absolute Error (MAE) on validation set: 21634.18712586914\n"
          ]
        }
      ]
    },
    {
      "cell_type": "code",
      "source": [
        "output_data = pd.DataFrame({'Id': test_data['Id'], 'SalePrice': y_test_pred})\n",
        "output_data.to_csv('output.csv', index=False)"
      ],
      "metadata": {
        "id": "uH5wEg_gA3vE"
      },
      "execution_count": null,
      "outputs": []
    },
    {
      "cell_type": "code",
      "source": [
        "import pandas as pd\n",
        "import numpy as np\n",
        "from sklearn.model_selection import train_test_split\n",
        "from sklearn.preprocessing import StandardScaler\n",
        "from keras.models import Sequential\n",
        "from keras.layers import Dense\n",
        "from sklearn.metrics import mean_squared_error, mean_absolute_error,r2_score\n",
        "import tensorflow as tf\n",
        "\n",
        "# Load the data\n",
        "train_data = pd.read_csv('train.csv')\n",
        "test_data = pd.read_csv('test.csv')\n",
        "\n",
        "# Prepare the data\n",
        "X_train = train_data.drop('SalePrice', axis=1)\n",
        "y_train = train_data['SalePrice']\n",
        "\n",
        "X_test = test_data\n",
        "\n",
        "X_train, X_val, y_train, y_val = train_test_split(X_train, y_train, test_size=0.2, random_state=42)\n"
      ],
      "metadata": {
        "id": "21HOpuvnBTw7"
      },
      "execution_count": null,
      "outputs": []
    },
    {
      "cell_type": "code",
      "source": [
        "scaler = StandardScaler()\n",
        "X_train_scaled = scaler.fit_transform(X_train)\n",
        "X_val_scaled = scaler.transform(X_val)\n",
        "X_test_scaled = scaler.transform(X_test)\n",
        "\n",
        "def rmse_log(y_true, y_pred):\n",
        "    log_y_true = tf.math.log(y_true)\n",
        "    log_y_pred = tf.math.log(y_pred)\n",
        "    return tf.sqrt(tf.reduce_mean(tf.square(log_y_true - log_y_pred)))\n",
        "\n",
        "# Build the neural network model\n",
        "model = Sequential()\n",
        "model.add(Dense(61, activation='relu', input_dim=X_train.shape[1]))\n",
        "model.add(Dense(64, activation='relu'))\n",
        "model.add(Dense(64, activation='relu'))\n",
        "model.add(Dense(64, activation='relu'))\n",
        "model.add(Dense(1))\n",
        "\n",
        "model.compile(loss='mean_squared_error', optimizer='adam')\n",
        "\n",
        "model.fit(X_train_scaled, y_train, epochs=150, batch_size=60,verbose=1)\n",
        "\n",
        "y_val_pred = model.predict(X_val_scaled)\n"
      ],
      "metadata": {
        "id": "A-LuCVBfBXvj"
      },
      "execution_count": null,
      "outputs": []
    },
    {
      "cell_type": "code",
      "source": [
        "mse = mean_squared_error(y_val, y_val_pred)\n",
        "mae = mean_absolute_error(y_val, y_val_pred)\n",
        "\n",
        "print(\"Mean Squared Error (MSE) on validation set:\", mse)\n",
        "print(\"Mean Absolute Error (MAE) on validation set:\", mae)"
      ],
      "metadata": {
        "colab": {
          "base_uri": "https://localhost:8080/"
        },
        "id": "u6UeOgGeBgW-",
        "outputId": "6113488e-a69a-4385-9c34-7a40332467a9"
      },
      "execution_count": null,
      "outputs": [
        {
          "output_type": "stream",
          "name": "stdout",
          "text": [
            "Mean Squared Error (MSE) on validation set: 995487280.696235\n",
            "Mean Absolute Error (MAE) on validation set: 20839.263083261987\n"
          ]
        }
      ]
    },
    {
      "cell_type": "code",
      "source": [
        "y_test_pred = model.predict(X_test_scaled)"
      ],
      "metadata": {
        "colab": {
          "base_uri": "https://localhost:8080/"
        },
        "id": "XGY5V3vrBhh2",
        "outputId": "0b36fd51-27fb-4884-de6f-0ad31a19f64f"
      },
      "execution_count": null,
      "outputs": [
        {
          "output_type": "stream",
          "name": "stdout",
          "text": [
            "46/46 [==============================] - 0s 1ms/step\n"
          ]
        }
      ]
    },
    {
      "cell_type": "code",
      "source": [
        "y_test_pred"
      ],
      "metadata": {
        "colab": {
          "base_uri": "https://localhost:8080/"
        },
        "id": "WukroSDTITYV",
        "outputId": "cffec29c-e4ea-45bb-914f-f2b7b518af42"
      },
      "execution_count": null,
      "outputs": [
        {
          "output_type": "execute_result",
          "data": {
            "text/plain": [
              "array([[193372.22],\n",
              "       [199128.8 ],\n",
              "       [223767.38],\n",
              "       ...,\n",
              "       [250581.1 ],\n",
              "       [212003.39],\n",
              "       [333658.38]], dtype=float32)"
            ]
          },
          "metadata": {},
          "execution_count": 14
        }
      ]
    },
    {
      "cell_type": "code",
      "source": [
        "l = []\n",
        "for i in y_test_pred:\n",
        "  l.append(i[0])"
      ],
      "metadata": {
        "id": "PfyxBMbjJjqd"
      },
      "execution_count": null,
      "outputs": []
    },
    {
      "cell_type": "code",
      "source": [
        "output_data = pd.DataFrame({'Id': test_data['Id'], 'SalePrice': l})\n",
        "output_data.to_csv('output.csv', index=False)"
      ],
      "metadata": {
        "id": "78zn5eorIL71"
      },
      "execution_count": null,
      "outputs": []
    },
    {
      "cell_type": "markdown",
      "source": [
        "Neural Network\n"
      ],
      "metadata": {
        "id": "y3f45sl4BR_R"
      }
    },
    {
      "cell_type": "code",
      "source": [
        "import numpy as np\n",
        "import pandas as pd\n",
        "import tensorflow as tf\n",
        "from sklearn.metrics import mean_squared_error,r2_score\n",
        "from tensorflow.keras.callbacks import EarlyStopping\n"
      ],
      "metadata": {
        "id": "VrkmvAldpKPe"
      },
      "execution_count": null,
      "outputs": []
    },
    {
      "cell_type": "code",
      "source": [
        "tf.keras.backend.clear_session()"
      ],
      "metadata": {
        "id": "Rk-F3lHbpGjP"
      },
      "execution_count": null,
      "outputs": []
    },
    {
      "cell_type": "code",
      "source": [
        "def my_loss(y_true, y_pred):\n",
        "    log_y_true = tf.math.log(y_true)\n",
        "    log_y_pred = tf.math.log(y_pred)\n",
        "    return tf.sqrt(tf.reduce_mean(tf.square(log_y_true - log_y_pred)))"
      ],
      "metadata": {
        "id": "NLl8CTI0xKk6"
      },
      "execution_count": null,
      "outputs": []
    },
    {
      "cell_type": "code",
      "source": [
        "def rmse_log(y_true, y_pred):\n",
        "    # log_y_true = tf.math.log(y_true)\n",
        "    # log_y_pred = tf.math.log(y_pred)\n",
        "    return tf.sqrt(tf.reduce_mean(tf.square(y_true - y_pred)))\n",
        "\n",
        "train_data = pd.read_csv('train.csv')\n",
        "test_data = pd.read_csv('test.csv')\n",
        "\n",
        "y_train = train_data['SalePrice']\n",
        "X_train = train_data.drop('SalePrice', axis=1)\n",
        "\n",
        "X_train = X_train.astype('float32')\n",
        "y_train = y_train.astype('float32')\n",
        "\n",
        "model = tf.keras.models.Sequential([\n",
        "    tf.keras.layers.Dense(37, activation='relu', input_shape=(X_train.shape[1],)),\n",
        "    tf.keras.layers.Dense(64, activation='relu'),\n",
        "    tf.keras.layers.Dense(128, activation='relu'),\n",
        "    tf.keras.layers.Dense(64, activation='relu'),\n",
        "    tf.keras.layers.Dense(32, activation='relu'),\n",
        "\n",
        "    tf.keras.layers.Dense(1)\n",
        "])\n",
        "\n",
        "model.compile(optimizer='Nadam', loss=rmse_log)\n",
        "\n",
        "early_stopping = EarlyStopping(monitor='val_loss', patience=3)\n",
        "\n",
        "m = model.fit(X_train, y_train, epochs=100, batch_size=32, validation_split=0.2, callbacks=[early_stopping])\n",
        "print(m.history['val_loss'])\n",
        "val_loss = m.history['val_loss'][-1]\n",
        "print('Validation Loss:', val_loss)\n",
        "\n",
        "y_val_pred = model.predict(X_train)\n",
        "print(y_val_pred)\n",
        "# val_rmse = rmse_log(y_train, y_val_pred)\n",
        "# print('Validation RMSE:', val_rmse)\n",
        "r2 = r2_score(y_train,y_val_pred)\n",
        "\n"
      ],
      "metadata": {
        "id": "S5muPFlIeTLg"
      },
      "execution_count": null,
      "outputs": []
    },
    {
      "cell_type": "code",
      "source": [
        "print(my_loss(y_train,y_val_pred))"
      ],
      "metadata": {
        "colab": {
          "base_uri": "https://localhost:8080/"
        },
        "id": "Sumc52xlxQ6Q",
        "outputId": "77faf13a-2a82-4fe2-faf8-cbdfdbb08af1"
      },
      "execution_count": null,
      "outputs": [
        {
          "output_type": "stream",
          "name": "stdout",
          "text": [
            "tf.Tensor(0.5428487, shape=(), dtype=float32)\n"
          ]
        }
      ]
    },
    {
      "cell_type": "code",
      "source": [
        "model.summary()"
      ],
      "metadata": {
        "id": "RtkrO3ayopBC"
      },
      "execution_count": null,
      "outputs": []
    },
    {
      "cell_type": "code",
      "source": [
        "y_test_pred = model.predict(test_data)"
      ],
      "metadata": {
        "colab": {
          "base_uri": "https://localhost:8080/"
        },
        "id": "sR9lvXK9er8i",
        "outputId": "661f902d-4a0f-46fe-b990-783fa532a451"
      },
      "execution_count": null,
      "outputs": [
        {
          "output_type": "stream",
          "name": "stdout",
          "text": [
            "46/46 [==============================] - 0s 1ms/step\n"
          ]
        }
      ]
    },
    {
      "cell_type": "code",
      "source": [
        "y_test_pred"
      ],
      "metadata": {
        "colab": {
          "base_uri": "https://localhost:8080/"
        },
        "id": "wuCcD-MYhbqI",
        "outputId": "d2ed74a4-3cee-4220-bc4d-b44de68194fd"
      },
      "execution_count": null,
      "outputs": [
        {
          "output_type": "execute_result",
          "data": {
            "text/plain": [
              "array([[124695.9 ],\n",
              "       [168292.02],\n",
              "       [183643.3 ],\n",
              "       ...,\n",
              "       [158949.81],\n",
              "       [ 75820.54],\n",
              "       [208225.14]], dtype=float32)"
            ]
          },
          "metadata": {},
          "execution_count": 121
        }
      ]
    },
    {
      "cell_type": "code",
      "source": [
        "l = []\n",
        "for i in y_test_pred:\n",
        "  l.append(i[0])"
      ],
      "metadata": {
        "id": "t_EQyDqzhdfp"
      },
      "execution_count": null,
      "outputs": []
    },
    {
      "cell_type": "code",
      "source": [
        "output_data = pd.DataFrame({'Id': test_data['Id'], 'SalePrice': l})\n",
        "output_data.to_csv('output.csv', index=False)"
      ],
      "metadata": {
        "id": "FlekwGOTetEt"
      },
      "execution_count": null,
      "outputs": []
    }
  ]
}